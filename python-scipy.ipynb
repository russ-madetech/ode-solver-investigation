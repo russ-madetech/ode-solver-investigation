{
 "cells": [
  {
   "cell_type": "code",
   "execution_count": 17,
   "metadata": {},
   "outputs": [],
   "source": [
    "from scipy.integrate import solve_ivp\n",
    "import numpy as np\n",
    "from scipy.integrate._ivp.ivp import OdeResult"
   ]
  },
  {
   "cell_type": "code",
   "execution_count": 18,
   "metadata": {},
   "outputs": [
    {
     "name": "stdout",
     "output_type": "stream",
     "text": [
      "\n",
      "\n",
      "BDF sol.t [0.00000000e+00 4.47275074e-03 8.94550149e-03 5.36730089e-02\n",
      " 9.84005164e-02 2.75262368e-01 4.52124220e-01 6.28986071e-01\n",
      " 1.00215957e+00 1.37533307e+00 1.74850656e+00 2.12168006e+00\n",
      " 2.62804037e+00 3.13440067e+00 3.64076098e+00 4.14712129e+00\n",
      " 4.65348159e+00 5.00000000e+00]\n",
      "\n",
      "BDF sol.y [[2.         1.99553567 1.99108107 1.94737505 1.9046073  1.74371808\n",
      "  1.59604871 1.46079526 1.2119308  1.00575874 0.83477415 0.69282777\n",
      "  0.53783377 0.4174028  0.32395522 0.25147441 0.1952205  0.16416546]\n",
      " [5.         4.98883919 4.97770268 4.86843763 4.76151826 4.35929521\n",
      "  3.99012178 3.65198816 3.029827   2.51439685 2.08693538 1.73206943\n",
      "  1.34458442 1.043507   0.80988806 0.62868602 0.48805125 0.41041365]\n",
      " [8.         7.9821427  7.96432428 7.78950021 7.61842922 6.97487234\n",
      "  6.38419485 5.84318105 4.84772321 4.02303497 3.33909661 2.77131109\n",
      "  2.15133508 1.6696112  1.2958209  1.00589764 0.78088201 0.65666184]]\n",
      "\n",
      "\n",
      "BDF sol.y[:, -1] [0.16416546 0.41041365 0.65666184]\n",
      "\n",
      "\n",
      "RK45 sol.t [0.         0.11487615 1.26363767 3.06060751 4.81609012 5.        ]\n",
      "\n",
      "RK45 sol.y [[2.         1.88836071 1.06327401 0.43319534 0.18017441 0.16434541]\n",
      " [5.         4.72090178 2.65818503 1.08298836 0.45043603 0.41086354]\n",
      " [8.         7.55344285 4.25309605 1.73278137 0.72069765 0.65738166]]\n",
      "\n",
      "\n",
      "RK45 y[0][-1] 0.16434541485873502\n"
     ]
    }
   ],
   "source": [
    "# example from docs\n",
    "def exponential_decay(t, y): return -0.5 * y # an example function\n",
    "\n",
    "t_span = [0, 5]\n",
    "y0 = [2, 5, 8]\n",
    "\n",
    "sol = solve_ivp(exponential_decay, t_span, y0, method=\"BDF\")\n",
    "\n",
    "print(\"\\n\\nBDF sol.t\", sol.t)\n",
    "print(\"\\nBDF sol.y\", sol.y)\n",
    "print(\"\\n\\nBDF sol.y[:, -1]\", sol.y[:, -1])\n",
    "\n",
    "sol = solve_ivp(exponential_decay, t_span, y0) # RK45 by default\n",
    "\n",
    "print(\"\\n\\nRK45 sol.t\", sol.t)\n",
    "print(\"\\nRK45 sol.y\", sol.y)\n",
    "# print(\"RK45 sol.t_events[0][-1]\", sol.t_events[0][-1]) # this currently errors\n",
    "print(\"\\n\\nRK45 y[0][-1]\", sol.y[0][-1]) "
   ]
  },
  {
   "cell_type": "code",
   "execution_count": 19,
   "metadata": {},
   "outputs": [
    {
     "ename": "NameError",
     "evalue": "name 'func_temp_emitter_change_rate' is not defined",
     "output_type": "error",
     "traceback": [
      "\u001b[0;31m---------------------------------------------------------------------------\u001b[0m",
      "\u001b[0;31mNameError\u001b[0m                                 Traceback (most recent call last)",
      "Cell \u001b[0;32mIn[19], line 3\u001b[0m\n\u001b[1;32m      1\u001b[0m \u001b[38;5;66;03m# from emitters.py\u001b[39;00m\n\u001b[1;32m      2\u001b[0m temp_diff_emitter_rm_results \u001b[38;5;241m=\u001b[39m solve_ivp(\n\u001b[0;32m----> 3\u001b[0m             \u001b[43mfunc_temp_emitter_change_rate\u001b[49m,\n\u001b[1;32m      4\u001b[0m             (time_start, time_end),\n\u001b[1;32m      5\u001b[0m             (temp_diff_start,),\n\u001b[1;32m      6\u001b[0m             events\u001b[38;5;241m=\u001b[39mevents,\n\u001b[1;32m      7\u001b[0m             )\n\u001b[1;32m      9\u001b[0m \u001b[38;5;66;03m# later in the function (modified)\u001b[39;00m\n\u001b[1;32m     10\u001b[0m \u001b[38;5;66;03m#temp_diff_emitter_rm_results.t_events[0][-1] and temp_diff_emitter_rm_results.y[0][-1] are used\u001b[39;00m\n\u001b[1;32m     13\u001b[0m time_temp_diff_max_reached \u001b[38;5;241m=\u001b[39m temp_diff_emitter_rm_results\u001b[38;5;241m.\u001b[39mt_events[\u001b[38;5;241m0\u001b[39m][\u001b[38;5;241m-\u001b[39m\u001b[38;5;241m1\u001b[39m]\n",
      "\u001b[0;31mNameError\u001b[0m: name 'func_temp_emitter_change_rate' is not defined"
     ]
    }
   ],
   "source": [
    "# from emitters.py\n",
    "temp_diff_emitter_rm_results = solve_ivp(\n",
    "            func_temp_emitter_change_rate,\n",
    "            (time_start, time_end),\n",
    "            (temp_diff_start,),\n",
    "            events=events,\n",
    "            )\n",
    "\n",
    "# later in the function (modified)\n",
    "#temp_diff_emitter_rm_results.t_events[0][-1] and temp_diff_emitter_rm_results.y[0][-1] are used\n",
    "\n",
    "\n",
    "time_temp_diff_max_reached = temp_diff_emitter_rm_results.t_events[0][-1]\n",
    "temp_diff_emitter_rm_final = temp_diff_emitter_rm_results.y[0][-1]\n",
    "\n",
    "# uses default method, which is RK45 (Runge-Kutta method of order 5(4))"
   ]
  }
 ],
 "metadata": {
  "kernelspec": {
   "display_name": "Python 3",
   "language": "python",
   "name": "python3"
  },
  "language_info": {
   "codemirror_mode": {
    "name": "ipython",
    "version": 3
   },
   "file_extension": ".py",
   "mimetype": "text/x-python",
   "name": "python",
   "nbconvert_exporter": "python",
   "pygments_lexer": "ipython3",
   "version": "3.12.6"
  }
 },
 "nbformat": 4,
 "nbformat_minor": 2
}
