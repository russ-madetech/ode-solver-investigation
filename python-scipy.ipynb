{
 "cells": [
  {
   "cell_type": "code",
   "execution_count": 44,
   "metadata": {},
   "outputs": [],
   "source": [
    "from scipy.integrate import solve_ivp\n",
    "import numpy as np\n",
    "from scipy.integrate._ivp.ivp import OdeResult"
   ]
  },
  {
   "cell_type": "code",
   "execution_count": 45,
   "metadata": {},
   "outputs": [
    {
     "name": "stdout",
     "output_type": "stream",
     "text": [
      "\n",
      "\n",
      "RK45 sol.t [0.         0.11488132 1.26369452 3.06074656 4.81637262 5.        ]\n",
      "\n",
      "RK45 sol.y [[2.         1.88835583 1.0632438  0.43316531 0.18014905 0.16434549]]\n",
      "\n",
      "\n",
      "RK45 y[0][-1] 0.164345493039713\n"
     ]
    }
   ],
   "source": [
    "# example from docs\n",
    "def exponential_decay(t, y): return -0.5 * y # an example function\n",
    "\n",
    "t_span = [0, 5]\n",
    "y0 = [2]\n",
    "# y0 = [2, 5, 8] # do we need to support this?\n",
    "\n",
    "\n",
    "# BSF - commented out for now\n",
    "# sol = solve_ivp(exponential_decay, t_span, y0, method=\"BDF\")\n",
    "\n",
    "# print(\"\\n\\nBDF sol.t\", sol.t)\n",
    "# print(\"\\nBDF sol.y\", sol.y)\n",
    "# print(\"\\n\\nBDF sol.y[:, -1]\", sol.y[:, -1])\n",
    "\n",
    "sol = solve_ivp(exponential_decay, t_span, y0) # RK45 by default\n",
    "\n",
    "print(\"\\n\\nRK45 sol.t\", sol.t)\n",
    "print(\"\\nRK45 sol.y\", sol.y)\n",
    "# print(\"RK45 sol.t_events[0][-1]\", sol.t_events[0][-1]) # this currently errors\n",
    "print(\"\\n\\nRK45 y[0][-1]\", sol.y[0][-1]) \n",
    "\n",
    "\n",
    "# RK45 sol.t [0.         0.11488132 1.26369452 3.06074656 4.81637262 5.        ]\n",
    "# RK45 sol.y [[2.         1.88835583 1.0632438  0.43316531 0.18014905 0.16434549]]\n",
    "# RK45 y[0][-1] 0.164345493039713"
   ]
  },
  {
   "cell_type": "code",
   "execution_count": 46,
   "metadata": {},
   "outputs": [
    {
     "ename": "NameError",
     "evalue": "name 'func_temp_emitter_change_rate' is not defined",
     "output_type": "error",
     "traceback": [
      "\u001b[0;31m---------------------------------------------------------------------------\u001b[0m",
      "\u001b[0;31mNameError\u001b[0m                                 Traceback (most recent call last)",
      "Cell \u001b[0;32mIn[46], line 3\u001b[0m\n\u001b[1;32m      1\u001b[0m \u001b[38;5;66;03m# from emitters.py\u001b[39;00m\n\u001b[1;32m      2\u001b[0m temp_diff_emitter_rm_results \u001b[38;5;241m=\u001b[39m solve_ivp(\n\u001b[0;32m----> 3\u001b[0m             \u001b[43mfunc_temp_emitter_change_rate\u001b[49m,\n\u001b[1;32m      4\u001b[0m             (time_start, time_end),\n\u001b[1;32m      5\u001b[0m             (temp_diff_start,),\n\u001b[1;32m      6\u001b[0m             events\u001b[38;5;241m=\u001b[39mevents,\n\u001b[1;32m      7\u001b[0m             )\n\u001b[1;32m      9\u001b[0m \u001b[38;5;66;03m# later in the function (modified)\u001b[39;00m\n\u001b[1;32m     10\u001b[0m \u001b[38;5;66;03m#temp_diff_emitter_rm_results.t_events[0][-1] and temp_diff_emitter_rm_results.y[0][-1] are used\u001b[39;00m\n\u001b[1;32m     13\u001b[0m time_temp_diff_max_reached \u001b[38;5;241m=\u001b[39m temp_diff_emitter_rm_results\u001b[38;5;241m.\u001b[39mt_events[\u001b[38;5;241m0\u001b[39m][\u001b[38;5;241m-\u001b[39m\u001b[38;5;241m1\u001b[39m]\n",
      "\u001b[0;31mNameError\u001b[0m: name 'func_temp_emitter_change_rate' is not defined"
     ]
    }
   ],
   "source": [
    "# from emitters.py\n",
    "temp_diff_emitter_rm_results = solve_ivp(\n",
    "            func_temp_emitter_change_rate,\n",
    "            (time_start, time_end),\n",
    "            (temp_diff_start,),\n",
    "            events=events,\n",
    "            )\n",
    "\n",
    "# later in the function (modified)\n",
    "#temp_diff_emitter_rm_results.t_events[0][-1] and temp_diff_emitter_rm_results.y[0][-1] are used\n",
    "\n",
    "\n",
    "time_temp_diff_max_reached = temp_diff_emitter_rm_results.t_events[0][-1]\n",
    "temp_diff_emitter_rm_final = temp_diff_emitter_rm_results.y[0][-1]\n",
    "\n",
    "# uses default method, which is RK45 (Runge-Kutta method of order 5(4))"
   ]
  }
 ],
 "metadata": {
  "kernelspec": {
   "display_name": "Python 3",
   "language": "python",
   "name": "python3"
  },
  "language_info": {
   "codemirror_mode": {
    "name": "ipython",
    "version": 3
   },
   "file_extension": ".py",
   "mimetype": "text/x-python",
   "name": "python",
   "nbconvert_exporter": "python",
   "pygments_lexer": "ipython3",
   "version": "3.12.6"
  }
 },
 "nbformat": 4,
 "nbformat_minor": 2
}
