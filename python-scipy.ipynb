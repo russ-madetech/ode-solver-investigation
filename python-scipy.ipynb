{
 "cells": [
  {
   "cell_type": "code",
   "execution_count": 23,
   "metadata": {},
   "outputs": [],
   "source": [
    "from scipy.integrate import solve_ivp\n",
    "import numpy as np\n",
    "from scipy.integrate._ivp.ivp import OdeResult"
   ]
  },
  {
   "cell_type": "markdown",
   "metadata": {},
   "source": [
    "### ODE solvers in Python HEM\n",
    "The Python code uses [solve_ivp](https://docs.scipy.org/doc/scipy/reference/generated/scipy.integrate.solve_ivp.html).\n",
    " See [src/main.rs](src/main.rs) for Rust implementation. (WIP)\n",
    "\n",
    "They are using two different *methods*:\n",
    "\n",
    "- **RK45** - Runge-Kutta method of order 5(4) which is the default method\n",
    "- **BDF** - Backward Differentiation Formula\n",
    "\n",
    "\n",
    "The aim of this investigaion is the use a Rust library to replicate the same behaviour.\n",
    "Example code later in this file showing usage.\n",
    "\n",
    "Next steps:\n",
    "- Investigate Rust libraries (ongoing).\n",
    "- Understand the output from the method and see how this is used in Python. Do we need to match the exact method? Or can we get the same result with any method?"
   ]
  },
  {
   "cell_type": "markdown",
   "metadata": {},
   "source": [
    "### SciPy's solve_ivp example usage"
   ]
  },
  {
   "cell_type": "code",
   "execution_count": 26,
   "metadata": {},
   "outputs": [
    {
     "name": "stdout",
     "output_type": "stream",
     "text": [
      "\n",
      "\n",
      "RK45 sol.t [0.         0.11488132 1.26369452 3.06074656 4.81637262 5.        ]\n",
      "RK45 sol.y [[2.         1.88835583 1.0632438  0.43316531 0.18014905 0.16434549]]\n",
      "RK45 y[0][-1] 0.164345493039713\n",
      "\n",
      "BDF sol.t [0.00000000e+00 4.47325385e-03 8.94650770e-03 5.36790462e-02\n",
      " 9.84115847e-02 2.75295014e-01 4.52178444e-01 6.29061874e-01\n",
      " 1.00228148e+00 1.37550108e+00 1.74872068e+00 2.12194029e+00\n",
      " 2.62840119e+00 3.13486210e+00 3.64132301e+00 4.14778391e+00\n",
      " 4.65424482e+00 5.00000000e+00]\n",
      "BDF sol.y [[2.         1.99553517 1.99108007 1.94736925 1.9045969  1.7436898\n",
      "  1.59600556 1.46073994 1.21185692 1.00567432 0.83468494 0.69273782\n",
      "  0.53773684 0.41730645 0.32386407 0.25139098 0.19514591 0.16416542]]\n",
      "BDF sol.y[:, -1] [0.16416542]\n"
     ]
    }
   ],
   "source": [
    "# example function from docs\n",
    "def exponential_decay(t, y): return -0.5 * y # an example function\n",
    "\n",
    "t_span = [0, 5]\n",
    "y0 = [2] # scipy can handle multiple separate inputs here\n",
    "# need to check if we're using this feature in Python HEM\n",
    "\n",
    "\n",
    "# RK45\n",
    "sol = solve_ivp(exponential_decay, t_span, y0) # RK45 by default\n",
    "\n",
    "print(\"\\n\\nRK45 sol.t\", sol.t)          # outputs:    [0.         0.11488132 1.26369452 3.06074656 4.81637262 5.        ]\n",
    "print(\"RK45 sol.y\", sol.y)              # outputs:    [[2.         1.88835583 1.0632438  0.43316531 0.18014905 0.16434549]]\n",
    "print(\"RK45 y[0][-1]\", sol.y[0][-1])    # outputs:    0.164345493039713\n",
    "\n",
    "\n",
    "# BDF\n",
    "sol = solve_ivp(exponential_decay, t_span, y0, method=\"BDF\")\n",
    "\n",
    "print(\"\\nBDF sol.t\", sol.t)                 # outputs: [0.00000000e+00 4.47325385e-03 8.94650770e-03 ... ]\n",
    "print(\"BDF sol.y\", sol.y)                   # outputs: [[[2.         1.99553517 1.99108007 1.94736925 ... ]]\n",
    "print(\"BDF sol.y[:, -1]\", sol.y[:, -1])     # outputs: [0.16416542]"
   ]
  },
  {
   "cell_type": "markdown",
   "metadata": {},
   "source": [
    "### Usage in Python HEM code\n",
    "NOTE - these will error in this notebook because they reference code not copied over"
   ]
  },
  {
   "cell_type": "markdown",
   "metadata": {},
   "source": [
    "### emitters.py"
   ]
  },
  {
   "cell_type": "code",
   "execution_count": null,
   "metadata": {},
   "outputs": [],
   "source": [
    "# from emitters.py\n",
    "temp_diff_emitter_rm_results = solve_ivp(\n",
    "            func_temp_emitter_change_rate,\n",
    "            (time_start, time_end),\n",
    "            (temp_diff_start,),\n",
    "            events=events,\n",
    "            )\n",
    "\n",
    "# later in the function (modified)\n",
    "#temp_diff_emitter_rm_results.t_events[0][-1] and temp_diff_emitter_rm_results.y[0][-1] are used\n",
    "\n",
    "\n",
    "time_temp_diff_max_reached = temp_diff_emitter_rm_results.t_events[0][-1]\n",
    "temp_diff_emitter_rm_final = temp_diff_emitter_rm_results.y[0][-1]\n",
    "\n",
    "# uses default method, which is RK45 (Runge-Kutta method of order 5(4))"
   ]
  },
  {
   "cell_type": "markdown",
   "metadata": {},
   "source": [
    "### elec_storage_heater.py"
   ]
  },
  {
   "cell_type": "code",
   "execution_count": null,
   "metadata": {},
   "outputs": [],
   "source": [
    "# from elec_storage_heater.py (modifed)\\n\",\n",
    "sol: OdeResult = solve_ivp(fun=self.__func_core_temperature_change_rate(q_dis_modo=q_dis_modo)\n",
    "            t_span=time_range\n",
    "            y0=temp_core_and_wall\n",
    "            method='BDF')\n",
    "\n",
    "new_temp_core_and_wall: list = sol.y[: -1]\n",
    "\n",
    "# uses BDF method - \"Backward Differentiation Formula\""
   ]
  },
  {
   "cell_type": "markdown",
   "metadata": {},
   "source": []
  }
 ],
 "metadata": {
  "kernelspec": {
   "display_name": "Python 3",
   "language": "python",
   "name": "python3"
  },
  "language_info": {
   "codemirror_mode": {
    "name": "ipython",
    "version": 3
   },
   "file_extension": ".py",
   "mimetype": "text/x-python",
   "name": "python",
   "nbconvert_exporter": "python",
   "pygments_lexer": "ipython3",
   "version": "3.12.6"
  }
 },
 "nbformat": 4,
 "nbformat_minor": 2
}
