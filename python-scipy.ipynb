{
 "cells": [
  {
   "cell_type": "code",
   "execution_count": 33,
   "metadata": {},
   "outputs": [],
   "source": [
    "from scipy.integrate import solve_ivp\n",
    "import numpy as np\n",
    "from scipy.integrate._ivp.ivp import OdeResult"
   ]
  },
  {
   "cell_type": "markdown",
   "metadata": {},
   "source": [
    "### ODE solvers in Python HEM\n",
    "The Python code uses [solve_ivp](https://docs.scipy.org/doc/scipy/reference/generated/scipy.integrate.solve_ivp.html).\n",
    "\n",
    "They are using two different *methods*:\n",
    "\n",
    "- **RK45** - Runge-Kutta method of order 5(4), which is the default method\n",
    "- **BDF** - Backward Differentiation Formula\n",
    "\n",
    "\n",
    "The aim of this investigaion is the use a Rust library to replicate the same behaviour.\n",
    "Example code below of usage.\n",
    "\n",
    "Next steps:\n",
    "- Investigate Rust libraries (ongoing)\n",
    "- See how the results are used in Python. Do we need to match the exact method?"
   ]
  },
  {
   "cell_type": "code",
   "execution_count": 34,
   "metadata": {},
   "outputs": [
    {
     "name": "stdout",
     "output_type": "stream",
     "text": [
      "\n",
      "\n",
      "BDF sol.t [0.00000000e+00 4.47278801e-03 8.94557602e-03 5.36734561e-02\n",
      " 9.84013363e-02 2.75264786e-01 4.52128236e-01 6.28991687e-01\n",
      " 1.00216860e+00 1.37534551e+00 1.74852243e+00 2.12169934e+00\n",
      " 2.62806710e+00 3.13443486e+00 3.64080261e+00 4.14717037e+00\n",
      " 4.65353813e+00 5.00000000e+00]\n",
      "\n",
      "BDF sol.y [[2.         1.99553564 1.991081   1.94737462 1.90460653 1.74371599\n",
      "  1.59604552 1.46079117 1.21192533 1.00575249 0.83476754 0.69282111\n",
      "  0.53782659 0.41739566 0.32394847 0.25146823 0.19521498 0.16416546]\n",
      " [4.         3.99107127 3.98216199 3.89474925 3.80921307 3.48743198\n",
      "  3.19209103 2.92158233 2.42385066 2.01150498 1.66953509 1.38564222\n",
      "  1.07565318 0.83479132 0.64789694 0.50293646 0.39042995 0.32833091]\n",
      " [8.         7.98214255 7.96432399 7.78949849 7.61842613 6.97486396\n",
      "  6.38418207 5.84316466 4.84770131 4.02300995 3.33907017 2.77128443\n",
      "  2.15130635 1.66958265 1.29579388 1.00587291 0.7808599  0.65666183]]\n",
      "\n",
      "\n",
      "BDF sol.y[:, -1] [0.16416546 0.32833091 0.65666183]\n",
      "\n",
      "\n",
      "RK45 sol.t [0.         0.11487653 1.26364188 3.06061781 4.81611105 5.        ]\n",
      "\n",
      "RK45 sol.y [[2.         1.88836035 1.06327177 0.43319312 0.18017253 0.16434542]\n",
      " [4.         3.7767207  2.12654355 0.86638624 0.36034507 0.32869084]\n",
      " [8.         7.5534414  4.25308709 1.73277247 0.72069014 0.65738168]]\n",
      "\n",
      "\n",
      "RK45 y[0][-1] 0.1643454206494441\n"
     ]
    }
   ],
   "source": [
    "# example from docs\n",
    "def exponential_decay(t, y): return -0.5 * y # an example function\n",
    "\n",
    "t_span = [0, 5]\n",
    "y0 = [2, 4, 8]\n",
    "\n",
    "sol = solve_ivp(exponential_decay, t_span, y0, method=\"BDF\")\n",
    "\n",
    "print(\"\\n\\nBDF sol.t\", sol.t)\n",
    "print(\"\\nBDF sol.y\", sol.y)\n",
    "print(\"\\n\\nBDF sol.y[:, -1]\", sol.y[:, -1])\n",
    "\n",
    "sol = solve_ivp(exponential_decay, t_span, y0) # RK45 by default\n",
    "\n",
    "print(\"\\n\\nRK45 sol.t\", sol.t)\n",
    "print(\"\\nRK45 sol.y\", sol.y)\n",
    "# print(\"RK45 sol.t_events[0][-1]\", sol.t_events[0][-1]) # this currently errors\n",
    "print(\"\\n\\nRK45 y[0][-1]\", sol.y[0][-1]) "
   ]
  },
  {
   "cell_type": "markdown",
   "metadata": {},
   "source": [
    "### ODE solvers in Rust\n",
    "\n",
    "#### [ode_solvers](https://crates.io/crates/ode_solvers)\n",
    "\n",
    "Supports RK4 (Runge Katta 4) - might be okay, but slightly different to RK45.\n",
    "\n",
    "Does not support BDF.\n",
    "\n",
    "##### [fast_ode](https://crates.io/crates/fast_ode)\n",
    "\n",
    "Supports RK45, intended to be identical to scipy's implementation.\n",
    "\n",
    "Does not support BDF."
   ]
  },
  {
   "cell_type": "markdown",
   "metadata": {},
   "source": [
    "### Usage In Python HEM\n",
    "\n",
    "The code below shows where ODE solvers are used in Python HEM.\n",
    "NOTE - these currently won't run in this notebook!"
   ]
  },
  {
   "cell_type": "code",
   "execution_count": 35,
   "metadata": {},
   "outputs": [
    {
     "ename": "NameError",
     "evalue": "name 'self' is not defined",
     "output_type": "error",
     "traceback": [
      "\u001b[0;31m---------------------------------------------------------------------------\u001b[0m",
      "\u001b[0;31mNameError\u001b[0m                                 Traceback (most recent call last)",
      "Cell \u001b[0;32mIn[35], line 2\u001b[0m\n\u001b[1;32m      1\u001b[0m \u001b[38;5;66;03m# from elec_storage_heater.py (modifed)\u001b[39;00m\n\u001b[0;32m----> 2\u001b[0m sol: OdeResult \u001b[38;5;241m=\u001b[39m solve_ivp(fun\u001b[38;5;241m=\u001b[39m\u001b[38;5;28;43mself\u001b[39;49m\u001b[38;5;241m.\u001b[39m__func_core_temperature_change_rate(q_dis_modo\u001b[38;5;241m=\u001b[39mq_dis_modo),\n\u001b[1;32m      3\u001b[0m             t_span\u001b[38;5;241m=\u001b[39mtime_range,\n\u001b[1;32m      4\u001b[0m             y0\u001b[38;5;241m=\u001b[39mtemp_core_and_wall,\n\u001b[1;32m      5\u001b[0m             method\u001b[38;5;241m=\u001b[39m\u001b[38;5;124m'\u001b[39m\u001b[38;5;124mBDF\u001b[39m\u001b[38;5;124m'\u001b[39m)\n\u001b[1;32m      7\u001b[0m new_temp_core_and_wall: \u001b[38;5;28mlist\u001b[39m \u001b[38;5;241m=\u001b[39m sol\u001b[38;5;241m.\u001b[39my[:, \u001b[38;5;241m-\u001b[39m\u001b[38;5;241m1\u001b[39m]\n\u001b[1;32m      9\u001b[0m \u001b[38;5;66;03m# uses BDF method - \"Backward Differentiation Formula\"\u001b[39;00m\n",
      "\u001b[0;31mNameError\u001b[0m: name 'self' is not defined"
     ]
    }
   ],
   "source": [
    "# from elec_storage_heater.py (modifed)\n",
    "sol: OdeResult = solve_ivp(fun=self.__func_core_temperature_change_rate(q_dis_modo=q_dis_modo),\n",
    "            t_span=time_range,\n",
    "            y0=temp_core_and_wall,\n",
    "            method='BDF')\n",
    "\n",
    "new_temp_core_and_wall: list = sol.y[:, -1]\n",
    "\n",
    "# uses BDF method - \"Backward Differentiation Formula\""
   ]
  },
  {
   "cell_type": "code",
   "execution_count": 6,
   "metadata": {},
   "outputs": [
    {
     "ename": "NameError",
     "evalue": "name 'func_temp_emitter_change_rate' is not defined",
     "output_type": "error",
     "traceback": [
      "\u001b[0;31m---------------------------------------------------------------------------\u001b[0m",
      "\u001b[0;31mNameError\u001b[0m                                 Traceback (most recent call last)",
      "Cell \u001b[0;32mIn[6], line 3\u001b[0m\n\u001b[1;32m      1\u001b[0m \u001b[38;5;66;03m# from emitters.py\u001b[39;00m\n\u001b[1;32m      2\u001b[0m temp_diff_emitter_rm_results \u001b[38;5;241m=\u001b[39m solve_ivp(\n\u001b[0;32m----> 3\u001b[0m             \u001b[43mfunc_temp_emitter_change_rate\u001b[49m,\n\u001b[1;32m      4\u001b[0m             (time_start, time_end),\n\u001b[1;32m      5\u001b[0m             (temp_diff_start,),\n\u001b[1;32m      6\u001b[0m             events\u001b[38;5;241m=\u001b[39mevents,\n\u001b[1;32m      7\u001b[0m             )\n\u001b[1;32m      9\u001b[0m \u001b[38;5;66;03m# uses default method, which is RK45 (Runge-Kutta method of order 5(4))\u001b[39;00m\n",
      "\u001b[0;31mNameError\u001b[0m: name 'func_temp_emitter_change_rate' is not defined"
     ]
    }
   ],
   "source": [
    "# from emitters.py\n",
    "temp_diff_emitter_rm_results = solve_ivp(\n",
    "            func_temp_emitter_change_rate,\n",
    "            (time_start, time_end),\n",
    "            (temp_diff_start,),\n",
    "            events=events,\n",
    "            )\n",
    "\n",
    "# later in the function (modified)\n",
    "#temp_diff_emitter_rm_results.t_events[0][-1] and temp_diff_emitter_rm_results.y[0][-1] are used\n",
    "\n",
    "\n",
    "time_temp_diff_max_reached = temp_diff_emitter_rm_results.t_events[0][-1]\n",
    "temp_diff_emitter_rm_final = temp_diff_emitter_rm_results.y[0][-1]\n",
    "\n",
    "# uses default method, which is RK45 (Runge-Kutta method of order 5(4))"
   ]
  }
 ],
 "metadata": {
  "kernelspec": {
   "display_name": "Python 3",
   "language": "python",
   "name": "python3"
  },
  "language_info": {
   "codemirror_mode": {
    "name": "ipython",
    "version": 3
   },
   "file_extension": ".py",
   "mimetype": "text/x-python",
   "name": "python",
   "nbconvert_exporter": "python",
   "pygments_lexer": "ipython3",
   "version": "3.12.6"
  }
 },
 "nbformat": 4,
 "nbformat_minor": 2
}
